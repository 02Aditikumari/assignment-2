{
 "cells": [
  {
   "cell_type": "markdown",
   "id": "6f55631b",
   "metadata": {},
   "source": [
    "# 2nd Assignment"
   ]
  },
  {
   "cell_type": "markdown",
   "id": "57622868",
   "metadata": {},
   "source": [
    "# Question no. 1- Write a python program to remove duplicates from a list."
   ]
  },
  {
   "cell_type": "code",
   "execution_count": 1,
   "id": "e4a3fef7",
   "metadata": {},
   "outputs": [
    {
     "name": "stdout",
     "output_type": "stream",
     "text": [
      "[10, 20, 30, 50, 60, 40, 80]\n"
     ]
    }
   ],
   "source": [
    "def remove(duplicate):\n",
    "    b = []\n",
    "    for x in duplicate:\n",
    "        if x not in b:\n",
    "            b.append(x)\n",
    "    return b\n",
    "duplicate = [10,20,30,20,10,50,60,40,80,50,40]\n",
    "print(remove(duplicate))"
   ]
  },
  {
   "cell_type": "markdown",
   "id": "470b473f",
   "metadata": {},
   "source": [
    "# Question no. 2 - write a python program to combine two dictionary adding values for common keys"
   ]
  },
  {
   "cell_type": "code",
   "execution_count": 2,
   "id": "aeb610dd",
   "metadata": {},
   "outputs": [
    {
     "name": "stdout",
     "output_type": "stream",
     "text": [
      "{'a': 400, 'b': 400, 'c': 300, 'd': 400}\n"
     ]
    }
   ],
   "source": [
    "d1 = {'a': 100, 'b': 200, 'c': 300}\n",
    "d2 = {'a': 300, 'b': 200, 'd': 400}\n",
    "for i in d2 :\n",
    "    if i in d1 :\n",
    "        d1[ i ] = d1[ i ] +d2[ i ]\n",
    "    else :\n",
    "        d1[ i ] = d2[ i ]\n",
    "print(d1)"
   ]
  },
  {
   "cell_type": "markdown",
   "id": "3515df44",
   "metadata": {},
   "source": [
    "# Question no. 3- write a python program to convert a tuple to a string."
   ]
  },
  {
   "cell_type": "code",
   "execution_count": 3,
   "id": "9998e69b",
   "metadata": {},
   "outputs": [
    {
     "name": "stdout",
     "output_type": "stream",
     "text": [
      "shibu\n"
     ]
    }
   ],
   "source": [
    "t = ('s', 'h', 'i', 'b', 'u', )\n",
    "\n",
    "str = ''.join(t)\n",
    "\n",
    "print(str)"
   ]
  },
  {
   "cell_type": "markdown",
   "id": "5face382",
   "metadata": {},
   "source": [
    "# Question no. 4- write a python a program to remove item (s) from set."
   ]
  },
  {
   "cell_type": "code",
   "execution_count": 4,
   "id": "856f2f3d",
   "metadata": {},
   "outputs": [
    {
     "name": "stdout",
     "output_type": "stream",
     "text": [
      "Original set:\n",
      "{0, 1, 3, 4, 5}\n",
      "\n",
      "After removing the first element from the said set:\n",
      "{1, 3, 4, 5}\n"
     ]
    }
   ],
   "source": [
    "num = set([0, 1, 3, 4, 5])\n",
    "print(\"Original set:\")\n",
    "print(num)\n",
    "num.pop()\n",
    "print(\"\\nAfter removing the first element from the said set:\")\n",
    "print(num)"
   ]
  },
  {
   "cell_type": "markdown",
   "id": "bff666ac",
   "metadata": {},
   "source": [
    "# Question no. 5- write a python program to create a symmetric difference."
   ]
  },
  {
   "cell_type": "code",
   "execution_count": 5,
   "id": "3e3cc54f",
   "metadata": {},
   "outputs": [
    {
     "name": "stdout",
     "output_type": "stream",
     "text": [
      "{1, 2, 3, 5, 6, 7}\n"
     ]
    }
   ],
   "source": [
    "a={1, 2, 3, 4}\n",
    "b={4, 5, 6, 7}\n",
    "c=a.symmetric_difference(b)\n",
    "print(c)"
   ]
  },
  {
   "cell_type": "markdown",
   "id": "a0b27a71",
   "metadata": {},
   "source": [
    "# Question no. 6- write a python program to cunstruct the following pattern, using a nested for loop."
   ]
  },
  {
   "cell_type": "code",
   "execution_count": 7,
   "id": "e4fcd7d5",
   "metadata": {},
   "outputs": [
    {
     "name": "stdout",
     "output_type": "stream",
     "text": [
      "\n",
      "*\n",
      "**\n",
      "***\n",
      "****\n",
      "*****\n",
      "****\n",
      "***\n",
      "**\n",
      "*\n"
     ]
    }
   ],
   "source": [
    "n=5;\n",
    "for i in range(n):\n",
    "    for j in range(i):\n",
    "        print('*', end=\"\")\n",
    "    print('') \n",
    "for i in range(n, 0, -1):\n",
    "    for j in range(i):\n",
    "        print(\"*\" ,end=\"\")\n",
    "    print(\"\")    "
   ]
  },
  {
   "cell_type": "markdown",
   "id": "4623976c",
   "metadata": {},
   "source": [
    "# Question no.7- write a python program get the fibonacci series b/w 0 to 50."
   ]
  },
  {
   "cell_type": "code",
   "execution_count": 8,
   "id": "770db50d",
   "metadata": {},
   "outputs": [
    {
     "name": "stdout",
     "output_type": "stream",
     "text": [
      "fibonacci series between 0 to 50:\n",
      "1\n",
      "1\n",
      "2\n",
      "3\n",
      "5\n",
      "8\n",
      "13\n",
      "21\n",
      "34\n"
     ]
    }
   ],
   "source": [
    "a, b= 0,1\n",
    "c =a+b\n",
    "n =50\n",
    "print(\"fibonacci series between 0 to 50:\")\n",
    "while c<n:\n",
    "    print(c)\n",
    "    c =a+b\n",
    "    a =b\n",
    "    b =c"
   ]
  }
 ],
 "metadata": {
  "kernelspec": {
   "display_name": "Python 3",
   "language": "python",
   "name": "python3"
  },
  "language_info": {
   "codemirror_mode": {
    "name": "ipython",
    "version": 3
   },
   "file_extension": ".py",
   "mimetype": "text/x-python",
   "name": "python",
   "nbconvert_exporter": "python",
   "pygments_lexer": "ipython3",
   "version": "3.8.8"
  }
 },
 "nbformat": 4,
 "nbformat_minor": 5
}
